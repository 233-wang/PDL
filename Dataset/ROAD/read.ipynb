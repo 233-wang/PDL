{
 "cells": [
  {
   "cell_type": "markdown",
   "metadata": {},
   "source": [
    "### 读取所有数据"
   ]
  },
  {
   "cell_type": "code",
   "execution_count": 1,
   "metadata": {},
   "outputs": [],
   "source": [
    "import pandas as pd\n",
    "import glob\n",
    "import numpy as np\n",
    "# 获取ROAD文件夹下所有CSV文件的路径\n",
    "csv_files = glob.glob('./*.csv')\n",
    "\n",
    "# 使用列表推导式读取所有文件并存储在列表中，尝试使用不同的编码\n",
    "dataframes = []\n",
    "for file in csv_files:\n",
    "    try:\n",
    "        df = pd.read_csv(file)\n",
    "    except UnicodeDecodeError:\n",
    "        df = pd.read_csv(file, encoding='latin1')  # 尝试使用Latin-1编码\n",
    "    dataframes.append(df)\n"
   ]
  },
  {
   "cell_type": "code",
   "execution_count": 2,
   "metadata": {},
   "outputs": [
    {
     "name": "stdout",
     "output_type": "stream",
     "text": [
      "<class 'pandas.core.frame.DataFrame'>\n",
      "RangeIndex: 1453835 entries, 0 to 1453834\n",
      "Data columns (total 51 columns):\n",
      " #   Column  Non-Null Count    Dtype  \n",
      "---  ------  --------------    -----  \n",
      " 0   1694    152303 non-null   float64\n",
      " 1   4       311860 non-null   float64\n",
      " 2   64      410217 non-null   float64\n",
      " 3   4.1     152303 non-null   float64\n",
      " 4   126     62285 non-null    float64\n",
      " 5   31      257558 non-null   float64\n",
      " 6   192     99861 non-null    float64\n",
      " 7   21      152303 non-null   float64\n",
      " 8   66      152303 non-null   float64\n",
      " 9   0.0     1453835 non-null  float64\n",
      " 10  263     324556 non-null   float64\n",
      " 11  0       1391550 non-null  float64\n",
      " 12  0.1     1159285 non-null  float64\n",
      " 13  0.2     773404 non-null   float64\n",
      " 14  0.3     521689 non-null   float64\n",
      " 15  0.4     521689 non-null   float64\n",
      " 16  0.5     521689 non-null   float64\n",
      " 17  0.6     521689 non-null   float64\n",
      " 18  0.7     324556 non-null   float64\n",
      " 19  124     90018 non-null    float64\n",
      " 20  32      655024 non-null   float64\n",
      " 21  852     331124 non-null   float64\n",
      " 22  50      62641 non-null    float64\n",
      " 23  5       62641 non-null    float64\n",
      " 24  168     62641 non-null    float64\n",
      " 25  128     637596 non-null   float64\n",
      " 26  51      57140 non-null    float64\n",
      " 27  7       57140 non-null    float64\n",
      " 28  15      57140 non-null    float64\n",
      " 29  7.1     57140 non-null    float64\n",
      " 30  208     57140 non-null    float64\n",
      " 31  255     337520 non-null   float64\n",
      " 32  3       337520 non-null   float64\n",
      " 33  227     195273 non-null   float64\n",
      " 34  412     127967 non-null   float64\n",
      " 35  24      127967 non-null   float64\n",
      " 36  230     127967 non-null   float64\n",
      " 37  2       201177 non-null   float64\n",
      " 38  40      127967 non-null   float64\n",
      " 39  737     159557 non-null   float64\n",
      " 40  1176    121365 non-null   float64\n",
      " 41  132     121365 non-null   float64\n",
      " 42  251     121365 non-null   float64\n",
      " 43  1       121365 non-null   float64\n",
      " 44  10      73210 non-null    float64\n",
      " 45  116     73210 non-null    float64\n",
      " 46  526     142247 non-null   float64\n",
      " 47  78      142247 non-null   float64\n",
      " 48  160     142247 non-null   float64\n",
      " 49  63      142247 non-null   float64\n",
      " 50  239     142247 non-null   float64\n",
      "dtypes: float64(51)\n",
      "memory usage: 565.7 MB\n",
      "None\n"
     ]
    }
   ],
   "source": [
    "# 合并所有DataFrame\n",
    "combined_df = pd.concat(dataframes, ignore_index=True)\n",
    "\n",
    "# 显示合并后的DataFrame的信息，如需\n",
    "print(combined_df.info())"
   ]
  },
  {
   "cell_type": "code",
   "execution_count": 3,
   "metadata": {},
   "outputs": [
    {
     "data": {
      "text/plain": [
       "Index(['1694', '4', '64', '4.1', '126', '31', '192', '21', '66', '0.0', '263',\n",
       "       '0', '0.1', '0.2', '0.3', '0.4', '0.5', '0.6', '0.7', '124', '32',\n",
       "       '852', '50', '5', '168', '128', '51', '7', '15', '7.1', '208', '255',\n",
       "       '3', '227', '412', '24', '230', '2', '40', '737', '1176', '132', '251',\n",
       "       '1', '10', '116', '526', '78', '160', '63', '239'],\n",
       "      dtype='object')"
      ]
     },
     "execution_count": 3,
     "metadata": {},
     "output_type": "execute_result"
    }
   ],
   "source": [
    "combined_df.columns"
   ]
  },
  {
   "cell_type": "markdown",
   "metadata": {},
   "source": [
    "合并'label', 'category', 'specific_class'列"
   ]
  },
  {
   "cell_type": "code",
   "execution_count": 22,
   "metadata": {},
   "outputs": [
    {
     "name": "stdout",
     "output_type": "stream",
     "text": [
      "<class 'pandas.core.frame.DataFrame'>\n",
      "RangeIndex: 1408219 entries, 0 to 1408218\n",
      "Data columns (total 10 columns):\n",
      " #   Column  Non-Null Count    Dtype \n",
      "---  ------  --------------    ----- \n",
      " 0   ID      1408219 non-null  int64 \n",
      " 1   DATA_0  1408219 non-null  int64 \n",
      " 2   DATA_1  1408219 non-null  int64 \n",
      " 3   DATA_2  1408219 non-null  int64 \n",
      " 4   DATA_3  1408219 non-null  int64 \n",
      " 5   DATA_4  1408219 non-null  int64 \n",
      " 6   DATA_5  1408219 non-null  int64 \n",
      " 7   DATA_6  1408219 non-null  int64 \n",
      " 8   DATA_7  1408219 non-null  int64 \n",
      " 9   Label   1408219 non-null  object\n",
      "dtypes: int64(9), object(1)\n",
      "memory usage: 107.4+ MB\n"
     ]
    }
   ],
   "source": [
    "combined_df['Label'] = combined_df.apply(lambda row: ' '.join([str(row['label']), str(row['category']), str(row['specific_class'])]), axis=1)\n",
    "combined_df.drop(['label', 'category', 'specific_class'], axis=1, inplace=True)\n",
    "combined_df.info()"
   ]
  },
  {
   "cell_type": "markdown",
   "metadata": {},
   "source": [
    "查看合并以后的类别情况。"
   ]
  },
  {
   "cell_type": "code",
   "execution_count": 24,
   "metadata": {},
   "outputs": [
    {
     "name": "stdout",
     "output_type": "stream",
     "text": [
      "BENIGN BENIGN BENIGN              1223737\n",
      "ATTACK DoS DoS                      74663\n",
      "ATTACK SPOOFING RPM                 54900\n",
      "ATTACK SPOOFING SPEED               24951\n",
      "ATTACK SPOOFING STEERING_WHEEL      19977\n",
      "ATTACK SPOOFING GAS                  9991\n",
      "Name: Label, dtype: int64\n"
     ]
    }
   ],
   "source": [
    "# 查看 'Label' 列的所有唯一值及其出现次数\n",
    "label_counts = combined_df['Label'].value_counts()\n",
    "\n",
    "# 打印结果\n",
    "print(label_counts)"
   ]
  },
  {
   "cell_type": "code",
   "execution_count": 26,
   "metadata": {},
   "outputs": [
    {
     "data": {
      "text/plain": [
       "Index(['ID', 'DATA_0', 'DATA_1', 'DATA_2', 'DATA_3', 'DATA_4', 'DATA_5',\n",
       "       'DATA_6', 'DATA_7', 'Label'],\n",
       "      dtype='object')"
      ]
     },
     "execution_count": 26,
     "metadata": {},
     "output_type": "execute_result"
    }
   ],
   "source": [
    "combined_df.columns"
   ]
  },
  {
   "cell_type": "code",
   "execution_count": 25,
   "metadata": {},
   "outputs": [
    {
     "data": {
      "text/html": [
       "<div>\n",
       "<style scoped>\n",
       "    .dataframe tbody tr th:only-of-type {\n",
       "        vertical-align: middle;\n",
       "    }\n",
       "\n",
       "    .dataframe tbody tr th {\n",
       "        vertical-align: top;\n",
       "    }\n",
       "\n",
       "    .dataframe thead th {\n",
       "        text-align: right;\n",
       "    }\n",
       "</style>\n",
       "<table border=\"1\" class=\"dataframe\">\n",
       "  <thead>\n",
       "    <tr style=\"text-align: right;\">\n",
       "      <th></th>\n",
       "      <th>ID</th>\n",
       "      <th>DATA_0</th>\n",
       "      <th>DATA_1</th>\n",
       "      <th>DATA_2</th>\n",
       "      <th>DATA_3</th>\n",
       "      <th>DATA_4</th>\n",
       "      <th>DATA_5</th>\n",
       "      <th>DATA_6</th>\n",
       "      <th>DATA_7</th>\n",
       "    </tr>\n",
       "  </thead>\n",
       "  <tbody>\n",
       "    <tr>\n",
       "      <th>count</th>\n",
       "      <td>1.408219e+06</td>\n",
       "      <td>1.408219e+06</td>\n",
       "      <td>1.408219e+06</td>\n",
       "      <td>1.408219e+06</td>\n",
       "      <td>1.408219e+06</td>\n",
       "      <td>1.408219e+06</td>\n",
       "      <td>1.408219e+06</td>\n",
       "      <td>1.408219e+06</td>\n",
       "      <td>1.408219e+06</td>\n",
       "    </tr>\n",
       "    <tr>\n",
       "      <th>mean</th>\n",
       "      <td>5.372079e+02</td>\n",
       "      <td>7.108660e+01</td>\n",
       "      <td>6.998925e+01</td>\n",
       "      <td>5.501127e+01</td>\n",
       "      <td>5.745364e+01</td>\n",
       "      <td>4.528517e+01</td>\n",
       "      <td>5.388261e+01</td>\n",
       "      <td>7.174914e+01</td>\n",
       "      <td>6.027477e+01</td>\n",
       "    </tr>\n",
       "    <tr>\n",
       "      <th>std</th>\n",
       "      <td>3.224800e+02</td>\n",
       "      <td>8.897717e+01</td>\n",
       "      <td>9.558374e+01</td>\n",
       "      <td>7.276584e+01</td>\n",
       "      <td>9.032077e+01</td>\n",
       "      <td>6.445835e+01</td>\n",
       "      <td>9.433612e+01</td>\n",
       "      <td>1.016872e+02</td>\n",
       "      <td>9.996547e+01</td>\n",
       "    </tr>\n",
       "    <tr>\n",
       "      <th>min</th>\n",
       "      <td>6.500000e+01</td>\n",
       "      <td>0.000000e+00</td>\n",
       "      <td>0.000000e+00</td>\n",
       "      <td>0.000000e+00</td>\n",
       "      <td>0.000000e+00</td>\n",
       "      <td>0.000000e+00</td>\n",
       "      <td>0.000000e+00</td>\n",
       "      <td>0.000000e+00</td>\n",
       "      <td>0.000000e+00</td>\n",
       "    </tr>\n",
       "    <tr>\n",
       "      <th>25%</th>\n",
       "      <td>3.570000e+02</td>\n",
       "      <td>0.000000e+00</td>\n",
       "      <td>0.000000e+00</td>\n",
       "      <td>0.000000e+00</td>\n",
       "      <td>0.000000e+00</td>\n",
       "      <td>0.000000e+00</td>\n",
       "      <td>0.000000e+00</td>\n",
       "      <td>0.000000e+00</td>\n",
       "      <td>0.000000e+00</td>\n",
       "    </tr>\n",
       "    <tr>\n",
       "      <th>50%</th>\n",
       "      <td>5.160000e+02</td>\n",
       "      <td>1.600000e+01</td>\n",
       "      <td>1.200000e+01</td>\n",
       "      <td>1.300000e+01</td>\n",
       "      <td>0.000000e+00</td>\n",
       "      <td>6.000000e+00</td>\n",
       "      <td>0.000000e+00</td>\n",
       "      <td>0.000000e+00</td>\n",
       "      <td>0.000000e+00</td>\n",
       "    </tr>\n",
       "    <tr>\n",
       "      <th>75%</th>\n",
       "      <td>5.780000e+02</td>\n",
       "      <td>1.270000e+02</td>\n",
       "      <td>1.280000e+02</td>\n",
       "      <td>1.250000e+02</td>\n",
       "      <td>9.200000e+01</td>\n",
       "      <td>8.600000e+01</td>\n",
       "      <td>6.300000e+01</td>\n",
       "      <td>1.380000e+02</td>\n",
       "      <td>8.000000e+01</td>\n",
       "    </tr>\n",
       "    <tr>\n",
       "      <th>max</th>\n",
       "      <td>1.438000e+03</td>\n",
       "      <td>2.550000e+02</td>\n",
       "      <td>2.550000e+02</td>\n",
       "      <td>2.550000e+02</td>\n",
       "      <td>2.550000e+02</td>\n",
       "      <td>2.550000e+02</td>\n",
       "      <td>2.550000e+02</td>\n",
       "      <td>2.550000e+02</td>\n",
       "      <td>2.550000e+02</td>\n",
       "    </tr>\n",
       "  </tbody>\n",
       "</table>\n",
       "</div>"
      ],
      "text/plain": [
       "                 ID        DATA_0        DATA_1        DATA_2        DATA_3  \\\n",
       "count  1.408219e+06  1.408219e+06  1.408219e+06  1.408219e+06  1.408219e+06   \n",
       "mean   5.372079e+02  7.108660e+01  6.998925e+01  5.501127e+01  5.745364e+01   \n",
       "std    3.224800e+02  8.897717e+01  9.558374e+01  7.276584e+01  9.032077e+01   \n",
       "min    6.500000e+01  0.000000e+00  0.000000e+00  0.000000e+00  0.000000e+00   \n",
       "25%    3.570000e+02  0.000000e+00  0.000000e+00  0.000000e+00  0.000000e+00   \n",
       "50%    5.160000e+02  1.600000e+01  1.200000e+01  1.300000e+01  0.000000e+00   \n",
       "75%    5.780000e+02  1.270000e+02  1.280000e+02  1.250000e+02  9.200000e+01   \n",
       "max    1.438000e+03  2.550000e+02  2.550000e+02  2.550000e+02  2.550000e+02   \n",
       "\n",
       "             DATA_4        DATA_5        DATA_6        DATA_7  \n",
       "count  1.408219e+06  1.408219e+06  1.408219e+06  1.408219e+06  \n",
       "mean   4.528517e+01  5.388261e+01  7.174914e+01  6.027477e+01  \n",
       "std    6.445835e+01  9.433612e+01  1.016872e+02  9.996547e+01  \n",
       "min    0.000000e+00  0.000000e+00  0.000000e+00  0.000000e+00  \n",
       "25%    0.000000e+00  0.000000e+00  0.000000e+00  0.000000e+00  \n",
       "50%    6.000000e+00  0.000000e+00  0.000000e+00  0.000000e+00  \n",
       "75%    8.600000e+01  6.300000e+01  1.380000e+02  8.000000e+01  \n",
       "max    2.550000e+02  2.550000e+02  2.550000e+02  2.550000e+02  "
      ]
     },
     "execution_count": 25,
     "metadata": {},
     "output_type": "execute_result"
    }
   ],
   "source": [
    "combined_df.describe()"
   ]
  },
  {
   "cell_type": "markdown",
   "metadata": {},
   "source": [
    "检查ID列的情况"
   ]
  },
  {
   "cell_type": "code",
   "execution_count": 27,
   "metadata": {},
   "outputs": [
    {
     "name": "stdout",
     "output_type": "stream",
     "text": [
      "ID is not unique. Further investigation needed.\n"
     ]
    }
   ],
   "source": [
    "if combined_df['ID'].is_unique:\n",
    "    print(\"ID is unique.\")\n",
    "else:\n",
    "    print(\"ID is not unique. Further investigation needed.\")\n"
   ]
  },
  {
   "cell_type": "markdown",
   "metadata": {},
   "source": [
    "结果显示，ID为非唯一的，因此这里不用作训练列数，防止模型过拟合。"
   ]
  },
  {
   "cell_type": "code",
   "execution_count": 28,
   "metadata": {},
   "outputs": [
    {
     "name": "stdout",
     "output_type": "stream",
     "text": [
      "<class 'pandas.core.frame.DataFrame'>\n",
      "RangeIndex: 1408219 entries, 0 to 1408218\n",
      "Data columns (total 9 columns):\n",
      " #   Column  Non-Null Count    Dtype \n",
      "---  ------  --------------    ----- \n",
      " 0   DATA_0  1408219 non-null  int64 \n",
      " 1   DATA_1  1408219 non-null  int64 \n",
      " 2   DATA_2  1408219 non-null  int64 \n",
      " 3   DATA_3  1408219 non-null  int64 \n",
      " 4   DATA_4  1408219 non-null  int64 \n",
      " 5   DATA_5  1408219 non-null  int64 \n",
      " 6   DATA_6  1408219 non-null  int64 \n",
      " 7   DATA_7  1408219 non-null  int64 \n",
      " 8   Label   1408219 non-null  object\n",
      "dtypes: int64(8), object(1)\n",
      "memory usage: 96.7+ MB\n"
     ]
    }
   ],
   "source": [
    "if 'ID' in combined_df.columns:\n",
    "    combined_df = combined_df.drop('ID', axis=1)\n",
    "combined_df.info()    "
   ]
  },
  {
   "cell_type": "markdown",
   "metadata": {},
   "source": [
    "数据归一化"
   ]
  },
  {
   "cell_type": "code",
   "execution_count": 29,
   "metadata": {},
   "outputs": [],
   "source": [
    "from sklearn.preprocessing import MinMaxScaler\n",
    "\n",
    "# 创建归一化器实例\n",
    "scaler = MinMaxScaler()\n",
    "\n",
    "# 归一化'DATA_0'到'DATA_7'这些列\n",
    "data_columns = ['DATA_0', 'DATA_1', 'DATA_2', 'DATA_3', 'DATA_4', 'DATA_5', 'DATA_6', 'DATA_7']\n",
    "combined_df[data_columns] = scaler.fit_transform(combined_df[data_columns])"
   ]
  },
  {
   "cell_type": "code",
   "execution_count": 30,
   "metadata": {},
   "outputs": [
    {
     "data": {
      "text/html": [
       "<div>\n",
       "<style scoped>\n",
       "    .dataframe tbody tr th:only-of-type {\n",
       "        vertical-align: middle;\n",
       "    }\n",
       "\n",
       "    .dataframe tbody tr th {\n",
       "        vertical-align: top;\n",
       "    }\n",
       "\n",
       "    .dataframe thead th {\n",
       "        text-align: right;\n",
       "    }\n",
       "</style>\n",
       "<table border=\"1\" class=\"dataframe\">\n",
       "  <thead>\n",
       "    <tr style=\"text-align: right;\">\n",
       "      <th></th>\n",
       "      <th>DATA_0</th>\n",
       "      <th>DATA_1</th>\n",
       "      <th>DATA_2</th>\n",
       "      <th>DATA_3</th>\n",
       "      <th>DATA_4</th>\n",
       "      <th>DATA_5</th>\n",
       "      <th>DATA_6</th>\n",
       "      <th>DATA_7</th>\n",
       "    </tr>\n",
       "  </thead>\n",
       "  <tbody>\n",
       "    <tr>\n",
       "      <th>count</th>\n",
       "      <td>1.408219e+06</td>\n",
       "      <td>1.408219e+06</td>\n",
       "      <td>1.408219e+06</td>\n",
       "      <td>1.408219e+06</td>\n",
       "      <td>1.408219e+06</td>\n",
       "      <td>1.408219e+06</td>\n",
       "      <td>1.408219e+06</td>\n",
       "      <td>1.408219e+06</td>\n",
       "    </tr>\n",
       "    <tr>\n",
       "      <th>mean</th>\n",
       "      <td>2.787710e-01</td>\n",
       "      <td>2.744676e-01</td>\n",
       "      <td>2.157305e-01</td>\n",
       "      <td>2.253084e-01</td>\n",
       "      <td>1.775889e-01</td>\n",
       "      <td>2.113044e-01</td>\n",
       "      <td>2.813692e-01</td>\n",
       "      <td>2.363716e-01</td>\n",
       "    </tr>\n",
       "    <tr>\n",
       "      <th>std</th>\n",
       "      <td>3.489301e-01</td>\n",
       "      <td>3.748382e-01</td>\n",
       "      <td>2.853562e-01</td>\n",
       "      <td>3.541991e-01</td>\n",
       "      <td>2.527778e-01</td>\n",
       "      <td>3.699456e-01</td>\n",
       "      <td>3.987733e-01</td>\n",
       "      <td>3.920214e-01</td>\n",
       "    </tr>\n",
       "    <tr>\n",
       "      <th>min</th>\n",
       "      <td>0.000000e+00</td>\n",
       "      <td>0.000000e+00</td>\n",
       "      <td>0.000000e+00</td>\n",
       "      <td>0.000000e+00</td>\n",
       "      <td>0.000000e+00</td>\n",
       "      <td>0.000000e+00</td>\n",
       "      <td>0.000000e+00</td>\n",
       "      <td>0.000000e+00</td>\n",
       "    </tr>\n",
       "    <tr>\n",
       "      <th>25%</th>\n",
       "      <td>0.000000e+00</td>\n",
       "      <td>0.000000e+00</td>\n",
       "      <td>0.000000e+00</td>\n",
       "      <td>0.000000e+00</td>\n",
       "      <td>0.000000e+00</td>\n",
       "      <td>0.000000e+00</td>\n",
       "      <td>0.000000e+00</td>\n",
       "      <td>0.000000e+00</td>\n",
       "    </tr>\n",
       "    <tr>\n",
       "      <th>50%</th>\n",
       "      <td>6.274510e-02</td>\n",
       "      <td>4.705882e-02</td>\n",
       "      <td>5.098039e-02</td>\n",
       "      <td>0.000000e+00</td>\n",
       "      <td>2.352941e-02</td>\n",
       "      <td>0.000000e+00</td>\n",
       "      <td>0.000000e+00</td>\n",
       "      <td>0.000000e+00</td>\n",
       "    </tr>\n",
       "    <tr>\n",
       "      <th>75%</th>\n",
       "      <td>4.980392e-01</td>\n",
       "      <td>5.019608e-01</td>\n",
       "      <td>4.901961e-01</td>\n",
       "      <td>3.607843e-01</td>\n",
       "      <td>3.372549e-01</td>\n",
       "      <td>2.470588e-01</td>\n",
       "      <td>5.411765e-01</td>\n",
       "      <td>3.137255e-01</td>\n",
       "    </tr>\n",
       "    <tr>\n",
       "      <th>max</th>\n",
       "      <td>1.000000e+00</td>\n",
       "      <td>1.000000e+00</td>\n",
       "      <td>1.000000e+00</td>\n",
       "      <td>1.000000e+00</td>\n",
       "      <td>1.000000e+00</td>\n",
       "      <td>1.000000e+00</td>\n",
       "      <td>1.000000e+00</td>\n",
       "      <td>1.000000e+00</td>\n",
       "    </tr>\n",
       "  </tbody>\n",
       "</table>\n",
       "</div>"
      ],
      "text/plain": [
       "             DATA_0        DATA_1        DATA_2        DATA_3        DATA_4  \\\n",
       "count  1.408219e+06  1.408219e+06  1.408219e+06  1.408219e+06  1.408219e+06   \n",
       "mean   2.787710e-01  2.744676e-01  2.157305e-01  2.253084e-01  1.775889e-01   \n",
       "std    3.489301e-01  3.748382e-01  2.853562e-01  3.541991e-01  2.527778e-01   \n",
       "min    0.000000e+00  0.000000e+00  0.000000e+00  0.000000e+00  0.000000e+00   \n",
       "25%    0.000000e+00  0.000000e+00  0.000000e+00  0.000000e+00  0.000000e+00   \n",
       "50%    6.274510e-02  4.705882e-02  5.098039e-02  0.000000e+00  2.352941e-02   \n",
       "75%    4.980392e-01  5.019608e-01  4.901961e-01  3.607843e-01  3.372549e-01   \n",
       "max    1.000000e+00  1.000000e+00  1.000000e+00  1.000000e+00  1.000000e+00   \n",
       "\n",
       "             DATA_5        DATA_6        DATA_7  \n",
       "count  1.408219e+06  1.408219e+06  1.408219e+06  \n",
       "mean   2.113044e-01  2.813692e-01  2.363716e-01  \n",
       "std    3.699456e-01  3.987733e-01  3.920214e-01  \n",
       "min    0.000000e+00  0.000000e+00  0.000000e+00  \n",
       "25%    0.000000e+00  0.000000e+00  0.000000e+00  \n",
       "50%    0.000000e+00  0.000000e+00  0.000000e+00  \n",
       "75%    2.470588e-01  5.411765e-01  3.137255e-01  \n",
       "max    1.000000e+00  1.000000e+00  1.000000e+00  "
      ]
     },
     "execution_count": 30,
     "metadata": {},
     "output_type": "execute_result"
    }
   ],
   "source": [
    "combined_df.describe()"
   ]
  },
  {
   "cell_type": "code",
   "execution_count": 34,
   "metadata": {},
   "outputs": [
    {
     "data": {
      "text/html": [
       "<div>\n",
       "<style scoped>\n",
       "    .dataframe tbody tr th:only-of-type {\n",
       "        vertical-align: middle;\n",
       "    }\n",
       "\n",
       "    .dataframe tbody tr th {\n",
       "        vertical-align: top;\n",
       "    }\n",
       "\n",
       "    .dataframe thead th {\n",
       "        text-align: right;\n",
       "    }\n",
       "</style>\n",
       "<table border=\"1\" class=\"dataframe\">\n",
       "  <thead>\n",
       "    <tr style=\"text-align: right;\">\n",
       "      <th></th>\n",
       "      <th>DATA_0</th>\n",
       "      <th>DATA_1</th>\n",
       "      <th>DATA_2</th>\n",
       "      <th>DATA_3</th>\n",
       "      <th>DATA_4</th>\n",
       "      <th>DATA_5</th>\n",
       "      <th>DATA_6</th>\n",
       "      <th>DATA_7</th>\n",
       "      <th>Label</th>\n",
       "    </tr>\n",
       "  </thead>\n",
       "  <tbody>\n",
       "    <tr>\n",
       "      <th>0</th>\n",
       "      <td>0.000000</td>\n",
       "      <td>0.000000</td>\n",
       "      <td>0.000000</td>\n",
       "      <td>0.000000</td>\n",
       "      <td>0.000000</td>\n",
       "      <td>0.000000</td>\n",
       "      <td>0.000000</td>\n",
       "      <td>0.000000</td>\n",
       "      <td>ATTACK DoS DoS</td>\n",
       "    </tr>\n",
       "    <tr>\n",
       "      <th>1</th>\n",
       "      <td>0.054902</td>\n",
       "      <td>0.043137</td>\n",
       "      <td>0.015686</td>\n",
       "      <td>0.015686</td>\n",
       "      <td>0.011765</td>\n",
       "      <td>0.011765</td>\n",
       "      <td>0.031373</td>\n",
       "      <td>0.047059</td>\n",
       "      <td>ATTACK DoS DoS</td>\n",
       "    </tr>\n",
       "    <tr>\n",
       "      <th>2</th>\n",
       "      <td>0.054902</td>\n",
       "      <td>0.043137</td>\n",
       "      <td>0.015686</td>\n",
       "      <td>0.015686</td>\n",
       "      <td>0.011765</td>\n",
       "      <td>0.011765</td>\n",
       "      <td>0.031373</td>\n",
       "      <td>0.047059</td>\n",
       "      <td>ATTACK DoS DoS</td>\n",
       "    </tr>\n",
       "    <tr>\n",
       "      <th>3</th>\n",
       "      <td>0.054902</td>\n",
       "      <td>0.043137</td>\n",
       "      <td>0.015686</td>\n",
       "      <td>0.015686</td>\n",
       "      <td>0.011765</td>\n",
       "      <td>0.011765</td>\n",
       "      <td>0.031373</td>\n",
       "      <td>0.047059</td>\n",
       "      <td>ATTACK DoS DoS</td>\n",
       "    </tr>\n",
       "    <tr>\n",
       "      <th>4</th>\n",
       "      <td>0.054902</td>\n",
       "      <td>0.043137</td>\n",
       "      <td>0.015686</td>\n",
       "      <td>0.015686</td>\n",
       "      <td>0.011765</td>\n",
       "      <td>0.011765</td>\n",
       "      <td>0.031373</td>\n",
       "      <td>0.047059</td>\n",
       "      <td>ATTACK DoS DoS</td>\n",
       "    </tr>\n",
       "  </tbody>\n",
       "</table>\n",
       "</div>"
      ],
      "text/plain": [
       "     DATA_0    DATA_1    DATA_2    DATA_3    DATA_4    DATA_5    DATA_6  \\\n",
       "0  0.000000  0.000000  0.000000  0.000000  0.000000  0.000000  0.000000   \n",
       "1  0.054902  0.043137  0.015686  0.015686  0.011765  0.011765  0.031373   \n",
       "2  0.054902  0.043137  0.015686  0.015686  0.011765  0.011765  0.031373   \n",
       "3  0.054902  0.043137  0.015686  0.015686  0.011765  0.011765  0.031373   \n",
       "4  0.054902  0.043137  0.015686  0.015686  0.011765  0.011765  0.031373   \n",
       "\n",
       "     DATA_7           Label  \n",
       "0  0.000000  ATTACK DoS DoS  \n",
       "1  0.047059  ATTACK DoS DoS  \n",
       "2  0.047059  ATTACK DoS DoS  \n",
       "3  0.047059  ATTACK DoS DoS  \n",
       "4  0.047059  ATTACK DoS DoS  "
      ]
     },
     "execution_count": 34,
     "metadata": {},
     "output_type": "execute_result"
    }
   ],
   "source": [
    "combined_df.head()"
   ]
  },
  {
   "cell_type": "markdown",
   "metadata": {},
   "source": [
    "对数据进行放缩，将其转为[0,255]的形式"
   ]
  },
  {
   "cell_type": "code",
   "execution_count": 36,
   "metadata": {},
   "outputs": [],
   "source": [
    "from sklearn.preprocessing import QuantileTransformer\n",
    "# Transform all features into the scale of [0,1]\n",
    "numeric_features = combined_df.dtypes[combined_df.dtypes != 'object'].index\n",
    "scaler = QuantileTransformer() \n",
    "combined_df[numeric_features] = scaler.fit_transform(combined_df[numeric_features])"
   ]
  },
  {
   "cell_type": "code",
   "execution_count": 37,
   "metadata": {},
   "outputs": [],
   "source": [
    "# Multiply the feature values by 255 to transform them into the scale of [0,255]\n",
    "combined_df[numeric_features] = combined_df[numeric_features].apply(\n",
    "    lambda x: (x*255))"
   ]
  },
  {
   "cell_type": "code",
   "execution_count": 38,
   "metadata": {},
   "outputs": [
    {
     "data": {
      "text/html": [
       "<div>\n",
       "<style scoped>\n",
       "    .dataframe tbody tr th:only-of-type {\n",
       "        vertical-align: middle;\n",
       "    }\n",
       "\n",
       "    .dataframe tbody tr th {\n",
       "        vertical-align: top;\n",
       "    }\n",
       "\n",
       "    .dataframe thead th {\n",
       "        text-align: right;\n",
       "    }\n",
       "</style>\n",
       "<table border=\"1\" class=\"dataframe\">\n",
       "  <thead>\n",
       "    <tr style=\"text-align: right;\">\n",
       "      <th></th>\n",
       "      <th>DATA_0</th>\n",
       "      <th>DATA_1</th>\n",
       "      <th>DATA_2</th>\n",
       "      <th>DATA_3</th>\n",
       "      <th>DATA_4</th>\n",
       "      <th>DATA_5</th>\n",
       "      <th>DATA_6</th>\n",
       "      <th>DATA_7</th>\n",
       "    </tr>\n",
       "  </thead>\n",
       "  <tbody>\n",
       "    <tr>\n",
       "      <th>count</th>\n",
       "      <td>1.408219e+06</td>\n",
       "      <td>1.408219e+06</td>\n",
       "      <td>1.408219e+06</td>\n",
       "      <td>1.408219e+06</td>\n",
       "      <td>1.408219e+06</td>\n",
       "      <td>1.408219e+06</td>\n",
       "      <td>1.408219e+06</td>\n",
       "      <td>1.408219e+06</td>\n",
       "    </tr>\n",
       "    <tr>\n",
       "      <th>mean</th>\n",
       "      <td>1.159415e+02</td>\n",
       "      <td>1.090081e+02</td>\n",
       "      <td>1.133562e+02</td>\n",
       "      <td>9.511913e+01</td>\n",
       "      <td>1.022382e+02</td>\n",
       "      <td>9.725848e+01</td>\n",
       "      <td>9.523261e+01</td>\n",
       "      <td>8.323352e+01</td>\n",
       "    </tr>\n",
       "    <tr>\n",
       "      <th>std</th>\n",
       "      <td>9.096800e+01</td>\n",
       "      <td>9.779881e+01</td>\n",
       "      <td>8.999221e+01</td>\n",
       "      <td>1.019489e+02</td>\n",
       "      <td>9.677039e+01</td>\n",
       "      <td>1.044887e+02</td>\n",
       "      <td>1.015058e+02</td>\n",
       "      <td>1.065898e+02</td>\n",
       "    </tr>\n",
       "    <tr>\n",
       "      <th>min</th>\n",
       "      <td>0.000000e+00</td>\n",
       "      <td>0.000000e+00</td>\n",
       "      <td>0.000000e+00</td>\n",
       "      <td>0.000000e+00</td>\n",
       "      <td>0.000000e+00</td>\n",
       "      <td>0.000000e+00</td>\n",
       "      <td>0.000000e+00</td>\n",
       "      <td>0.000000e+00</td>\n",
       "    </tr>\n",
       "    <tr>\n",
       "      <th>25%</th>\n",
       "      <td>0.000000e+00</td>\n",
       "      <td>0.000000e+00</td>\n",
       "      <td>0.000000e+00</td>\n",
       "      <td>0.000000e+00</td>\n",
       "      <td>0.000000e+00</td>\n",
       "      <td>0.000000e+00</td>\n",
       "      <td>0.000000e+00</td>\n",
       "      <td>0.000000e+00</td>\n",
       "    </tr>\n",
       "    <tr>\n",
       "      <th>50%</th>\n",
       "      <td>1.272447e+02</td>\n",
       "      <td>1.271171e+02</td>\n",
       "      <td>1.287763e+02</td>\n",
       "      <td>0.000000e+00</td>\n",
       "      <td>1.248198e+02</td>\n",
       "      <td>0.000000e+00</td>\n",
       "      <td>0.000000e+00</td>\n",
       "      <td>0.000000e+00</td>\n",
       "    </tr>\n",
       "    <tr>\n",
       "      <th>75%</th>\n",
       "      <td>1.902928e+02</td>\n",
       "      <td>1.943769e+02</td>\n",
       "      <td>1.896547e+02</td>\n",
       "      <td>1.937387e+02</td>\n",
       "      <td>1.896547e+02</td>\n",
       "      <td>1.877402e+02</td>\n",
       "      <td>1.913138e+02</td>\n",
       "      <td>1.897823e+02</td>\n",
       "    </tr>\n",
       "    <tr>\n",
       "      <th>max</th>\n",
       "      <td>2.550000e+02</td>\n",
       "      <td>2.550000e+02</td>\n",
       "      <td>2.550000e+02</td>\n",
       "      <td>2.550000e+02</td>\n",
       "      <td>2.550000e+02</td>\n",
       "      <td>2.550000e+02</td>\n",
       "      <td>2.550000e+02</td>\n",
       "      <td>2.550000e+02</td>\n",
       "    </tr>\n",
       "  </tbody>\n",
       "</table>\n",
       "</div>"
      ],
      "text/plain": [
       "             DATA_0        DATA_1        DATA_2        DATA_3        DATA_4  \\\n",
       "count  1.408219e+06  1.408219e+06  1.408219e+06  1.408219e+06  1.408219e+06   \n",
       "mean   1.159415e+02  1.090081e+02  1.133562e+02  9.511913e+01  1.022382e+02   \n",
       "std    9.096800e+01  9.779881e+01  8.999221e+01  1.019489e+02  9.677039e+01   \n",
       "min    0.000000e+00  0.000000e+00  0.000000e+00  0.000000e+00  0.000000e+00   \n",
       "25%    0.000000e+00  0.000000e+00  0.000000e+00  0.000000e+00  0.000000e+00   \n",
       "50%    1.272447e+02  1.271171e+02  1.287763e+02  0.000000e+00  1.248198e+02   \n",
       "75%    1.902928e+02  1.943769e+02  1.896547e+02  1.937387e+02  1.896547e+02   \n",
       "max    2.550000e+02  2.550000e+02  2.550000e+02  2.550000e+02  2.550000e+02   \n",
       "\n",
       "             DATA_5        DATA_6        DATA_7  \n",
       "count  1.408219e+06  1.408219e+06  1.408219e+06  \n",
       "mean   9.725848e+01  9.523261e+01  8.323352e+01  \n",
       "std    1.044887e+02  1.015058e+02  1.065898e+02  \n",
       "min    0.000000e+00  0.000000e+00  0.000000e+00  \n",
       "25%    0.000000e+00  0.000000e+00  0.000000e+00  \n",
       "50%    0.000000e+00  0.000000e+00  0.000000e+00  \n",
       "75%    1.877402e+02  1.913138e+02  1.897823e+02  \n",
       "max    2.550000e+02  2.550000e+02  2.550000e+02  "
      ]
     },
     "execution_count": 38,
     "metadata": {},
     "output_type": "execute_result"
    }
   ],
   "source": [
    "combined_df.describe()"
   ]
  },
  {
   "cell_type": "code",
   "execution_count": 40,
   "metadata": {},
   "outputs": [
    {
     "name": "stdout",
     "output_type": "stream",
     "text": [
      "BENIGN BENIGN BENIGN              1223737\n",
      "ATTACK DoS DoS                      74663\n",
      "ATTACK SPOOFING RPM                 54900\n",
      "ATTACK SPOOFING SPEED               24951\n",
      "ATTACK SPOOFING STEERING_WHEEL      19977\n",
      "ATTACK SPOOFING GAS                  9991\n",
      "Name: Label, dtype: int64\n"
     ]
    }
   ],
   "source": [
    "# 查看 'Label' 列的所有唯一值及其出现次数\n",
    "label_counts = combined_df['Label'].value_counts()\n",
    "\n",
    "# 打印结果\n",
    "print(label_counts)"
   ]
  },
  {
   "cell_type": "markdown",
   "metadata": {},
   "source": [
    "对数据进行分类"
   ]
  },
  {
   "cell_type": "code",
   "execution_count": 41,
   "metadata": {},
   "outputs": [],
   "source": [
    "df0=combined_df[combined_df['Label']=='BENIGN BENIGN BENIGN'].drop(['Label'],axis=1)\n",
    "df1=combined_df[combined_df['Label']=='ATTACK DoS DoS'].drop(['Label'],axis=1)\n",
    "df2=combined_df[combined_df['Label']=='ATTACK SPOOFING RPM'].drop(['Label'],axis=1)\n",
    "df3=combined_df[combined_df['Label']=='ATTACK SPOOFING SPEED'].drop(['Label'],axis=1)\n",
    "df4=combined_df[combined_df['Label']=='ATTACK SPOOFING STEERING_WHEEL'].drop(['Label'],axis=1)\n",
    "df5=combined_df[combined_df['Label']=='ATTACK SPOOFING GAS'].drop(['Label'],axis=1)\n"
   ]
  },
  {
   "cell_type": "markdown",
   "metadata": {},
   "source": [
    "将数据集转为32*32*3的图像形式"
   ]
  },
  {
   "cell_type": "code",
   "execution_count": 5,
   "metadata": {},
   "outputs": [
    {
     "ename": "KeyboardInterrupt",
     "evalue": "",
     "output_type": "error",
     "traceback": [
      "\u001b[0;31m---------------------------------------------------------------------------\u001b[0m",
      "\u001b[0;31mKeyboardInterrupt\u001b[0m                         Traceback (most recent call last)",
      "\u001b[0;32m/tmp/ipykernel_1076091/1851440733.py\u001b[0m in \u001b[0;36m<module>\u001b[0;34m\u001b[0m\n\u001b[1;32m     26\u001b[0m     \u001b[0mimage_data\u001b[0m \u001b[0;34m=\u001b[0m \u001b[0mnp\u001b[0m\u001b[0;34m.\u001b[0m\u001b[0marray\u001b[0m\u001b[0;34m(\u001b[0m\u001b[0mimage_data\u001b[0m\u001b[0;34m,\u001b[0m \u001b[0mdtype\u001b[0m\u001b[0;34m=\u001b[0m\u001b[0mnp\u001b[0m\u001b[0;34m.\u001b[0m\u001b[0muint8\u001b[0m\u001b[0;34m)\u001b[0m\u001b[0;34m\u001b[0m\u001b[0;34m\u001b[0m\u001b[0m\n\u001b[1;32m     27\u001b[0m     \u001b[0mnew_image\u001b[0m \u001b[0;34m=\u001b[0m \u001b[0mImage\u001b[0m\u001b[0;34m.\u001b[0m\u001b[0mfromarray\u001b[0m\u001b[0;34m(\u001b[0m\u001b[0mimage_data\u001b[0m\u001b[0;34m)\u001b[0m\u001b[0;34m\u001b[0m\u001b[0;34m\u001b[0m\u001b[0m\n\u001b[0;32m---> 28\u001b[0;31m     \u001b[0mnew_image\u001b[0m\u001b[0;34m.\u001b[0m\u001b[0msave\u001b[0m\u001b[0;34m(\u001b[0m\u001b[0mos\u001b[0m\u001b[0;34m.\u001b[0m\u001b[0mpath\u001b[0m\u001b[0;34m.\u001b[0m\u001b[0mjoin\u001b[0m\u001b[0;34m(\u001b[0m\u001b[0mimage_path\u001b[0m\u001b[0;34m,\u001b[0m \u001b[0;34mf'{start_index // 4}.png'\u001b[0m\u001b[0;34m)\u001b[0m\u001b[0;34m)\u001b[0m\u001b[0;34m\u001b[0m\u001b[0;34m\u001b[0m\u001b[0m\n\u001b[0m\u001b[1;32m     29\u001b[0m \u001b[0;34m\u001b[0m\u001b[0m\n\u001b[1;32m     30\u001b[0m     \u001b[0mstart_index\u001b[0m \u001b[0;34m+=\u001b[0m \u001b[0;36m4\u001b[0m\u001b[0;34m\u001b[0m\u001b[0;34m\u001b[0m\u001b[0m\n",
      "\u001b[0;32m~/anaconda3/envs/carhacking/lib/python3.7/site-packages/PIL/Image.py\u001b[0m in \u001b[0;36msave\u001b[0;34m(self, fp, format, **params)\u001b[0m\n\u001b[1;32m   2440\u001b[0m             \u001b[0;32mraise\u001b[0m\u001b[0;34m\u001b[0m\u001b[0;34m\u001b[0m\u001b[0m\n\u001b[1;32m   2441\u001b[0m         \u001b[0;32mif\u001b[0m \u001b[0mopen_fp\u001b[0m\u001b[0;34m:\u001b[0m\u001b[0;34m\u001b[0m\u001b[0;34m\u001b[0m\u001b[0m\n\u001b[0;32m-> 2442\u001b[0;31m             \u001b[0mfp\u001b[0m\u001b[0;34m.\u001b[0m\u001b[0mclose\u001b[0m\u001b[0;34m(\u001b[0m\u001b[0;34m)\u001b[0m\u001b[0;34m\u001b[0m\u001b[0;34m\u001b[0m\u001b[0m\n\u001b[0m\u001b[1;32m   2443\u001b[0m \u001b[0;34m\u001b[0m\u001b[0m\n\u001b[1;32m   2444\u001b[0m     \u001b[0;32mdef\u001b[0m \u001b[0mseek\u001b[0m\u001b[0;34m(\u001b[0m\u001b[0mself\u001b[0m\u001b[0;34m,\u001b[0m \u001b[0mframe\u001b[0m\u001b[0;34m)\u001b[0m\u001b[0;34m:\u001b[0m\u001b[0;34m\u001b[0m\u001b[0;34m\u001b[0m\u001b[0m\n",
      "\u001b[0;31mKeyboardInterrupt\u001b[0m: "
     ]
    }
   ],
   "source": [
    "import numpy as np\n",
    "from PIL import Image\n",
    "import os\n",
    "\n",
    "image_path = \"./train/0/\"\n",
    "os.makedirs(image_path, exist_ok=True)\n",
    "\n",
    "needed_pixels = 32 * 32 * 3\n",
    "\n",
    "# 检查数据是否为4的整数倍\n",
    "remaining_rows = len(df) % 4\n",
    "start_index = 0\n",
    "\n",
    "while start_index < len(df):\n",
    "    if start_index + 4 > len(df):\n",
    "        # 如果剩余数据不足4条，从前面取足够的数据填充\n",
    "        extra_needed = 4 - remaining_rows\n",
    "        data_block = np.concatenate([df.iloc[start_index:start_index + remaining_rows].values.flatten(),\n",
    "                                     df.iloc[start_index - extra_needed:start_index].values.flatten()])\n",
    "    else:\n",
    "        # 正常情况下获取4条数据\n",
    "        data_block = df.iloc[start_index:start_index + 4].values.flatten()\n",
    "    \n",
    "    repeated_data = np.tile(data_block, needed_pixels // len(data_block) + 1)[:needed_pixels]\n",
    "    image_data = repeated_data.reshape((32, 32, 3))\n",
    "    image_data = np.array(image_data, dtype=np.uint8)\n",
    "    new_image = Image.fromarray(image_data)\n",
    "    new_image.save(os.path.join(image_path, f'{start_index // 4}.png'))\n",
    "\n",
    "    start_index += 4\n"
   ]
  },
  {
   "cell_type": "code",
   "execution_count": null,
   "metadata": {},
   "outputs": [],
   "source": []
  }
 ],
 "metadata": {
  "kernelspec": {
   "display_name": "carhacking",
   "language": "python",
   "name": "python3"
  },
  "language_info": {
   "codemirror_mode": {
    "name": "ipython",
    "version": 3
   },
   "file_extension": ".py",
   "mimetype": "text/x-python",
   "name": "python",
   "nbconvert_exporter": "python",
   "pygments_lexer": "ipython3",
   "version": "3.7.12"
  }
 },
 "nbformat": 4,
 "nbformat_minor": 2
}
